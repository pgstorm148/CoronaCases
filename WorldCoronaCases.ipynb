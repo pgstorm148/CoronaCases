{
 "cells": [
  {
   "cell_type": "code",
   "execution_count": 1,
   "metadata": {},
   "outputs": [
    {
     "name": "stdout",
     "output_type": "stream",
     "text": [
      "Successfully store COVID-19 data at 2020-04-21 17:39:55.580333\n"
     ]
    }
   ],
   "source": [
    "import requests, datetime\n",
    "from bs4 import BeautifulSoup \n",
    "url = \"https://www.worldometers.info/coronavirus/\"\n",
    "req = requests.get(url)\n",
    "bsObj = BeautifulSoup(req.text, \"html.parser\")\n",
    "data = bsObj.find_all(\"div\",class_ = \"maincounter-number\")\n",
    "NumTotalCase = data[0].text.strip().replace(',', '')\n",
    "NumDeaths = data[1].text.strip().replace(',', '')\n",
    "NumRecovered = data[2].text.strip().replace(',', '')\n",
    "TimeNow = datetime.datetime.now()\n",
    "with open('world_corona_cases.csv','a') as fd:\n",
    "    fd.write(f\"{TimeNow},{NumTotalCase},{NumDeaths},{NumRecovered};\")\n",
    "print(f\"Successfully stored COVID-19 data at {TimeNow} in file world_corona_cases.csv search your pc for the following file\")"
   ]
  },
  {
   "cell_type": "code",
   "execution_count": null,
   "metadata": {},
   "outputs": [],
   "source": []
  }
 ],
 "metadata": {
  "kernelspec": {
   "display_name": "Python 3",
   "language": "python",
   "name": "python3"
  },
  "language_info": {
   "codemirror_mode": {
    "name": "ipython",
    "version": 3
   },
   "file_extension": ".py",
   "mimetype": "text/x-python",
   "name": "python",
   "nbconvert_exporter": "python",
   "pygments_lexer": "ipython3",
   "version": "3.7.4"
  }
 },
 "nbformat": 4,
 "nbformat_minor": 2
}
